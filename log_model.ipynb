{
 "cells": [
  {
   "cell_type": "markdown",
   "metadata": {},
   "source": [
    "# WORK IN PROGRESS\n",
    "\n",
    "- THIS DATA AND THIS MODEL ARE STILL BEING TRANSFORMED AND ASSESSED"
   ]
  },
  {
   "cell_type": "code",
   "execution_count": 1,
   "metadata": {},
   "outputs": [],
   "source": [
    "#import dependecies\n",
    "import pandas as pd\n",
    "import numpy as np\n",
    "\n",
    "from sklearn.linear_model import LogisticRegression\n",
    "from sklearn.preprocessing import StandardScaler\n",
    "from sklearn.model_selection import train_test_split\n",
    "from sklearn.metrics import classification_report, confusion_matrix, roc_auc_score"
   ]
  },
  {
   "cell_type": "code",
   "execution_count": 2,
   "metadata": {},
   "outputs": [],
   "source": [
    "#read in training dataset\n",
    "df = pd.read_csv('Resources/cpl_train_cleaned.csv')"
   ]
  },
  {
   "cell_type": "code",
   "execution_count": 3,
   "metadata": {},
   "outputs": [
    {
     "data": {
      "text/html": [
       "<div>\n",
       "<style scoped>\n",
       "    .dataframe tbody tr th:only-of-type {\n",
       "        vertical-align: middle;\n",
       "    }\n",
       "\n",
       "    .dataframe tbody tr th {\n",
       "        vertical-align: top;\n",
       "    }\n",
       "\n",
       "    .dataframe thead th {\n",
       "        text-align: right;\n",
       "    }\n",
       "</style>\n",
       "<table border=\"1\" class=\"dataframe\">\n",
       "  <thead>\n",
       "    <tr style=\"text-align: right;\">\n",
       "      <th></th>\n",
       "      <th>Age</th>\n",
       "      <th>SSN</th>\n",
       "      <th>Occupation</th>\n",
       "      <th>Annual_Income</th>\n",
       "      <th>Monthly_Inhand_Salary</th>\n",
       "      <th>Num_Bank_Accounts</th>\n",
       "      <th>Num_Credit_Card</th>\n",
       "      <th>Interest_Rate</th>\n",
       "      <th>Num_of_Loan</th>\n",
       "      <th>Type_of_Loan</th>\n",
       "      <th>...</th>\n",
       "      <th>Credit_Mix</th>\n",
       "      <th>Outstanding_Debt</th>\n",
       "      <th>Credit_Utilization_Ratio</th>\n",
       "      <th>Credit_History_Age</th>\n",
       "      <th>Payment_of_Min_Amount</th>\n",
       "      <th>Total_EMI_per_month</th>\n",
       "      <th>Amount_invested_monthly</th>\n",
       "      <th>Payment_Behaviour</th>\n",
       "      <th>Monthly_Balance</th>\n",
       "      <th>Credit_Score</th>\n",
       "    </tr>\n",
       "  </thead>\n",
       "  <tbody>\n",
       "    <tr>\n",
       "      <th>0</th>\n",
       "      <td>23</td>\n",
       "      <td>NaN</td>\n",
       "      <td>Scientist</td>\n",
       "      <td>19114.12</td>\n",
       "      <td>1824.843333</td>\n",
       "      <td>3</td>\n",
       "      <td>4</td>\n",
       "      <td>3</td>\n",
       "      <td>4</td>\n",
       "      <td>Auto Loan, Credit-Builder Loan, Personal Loan,...</td>\n",
       "      <td>...</td>\n",
       "      <td></td>\n",
       "      <td>809.98</td>\n",
       "      <td>26.822620</td>\n",
       "      <td>22 Years and 1 Months</td>\n",
       "      <td>No</td>\n",
       "      <td>49.574949</td>\n",
       "      <td>80.415295</td>\n",
       "      <td>High spent Small value payments</td>\n",
       "      <td>312.494089</td>\n",
       "      <td>Good</td>\n",
       "    </tr>\n",
       "    <tr>\n",
       "      <th>1</th>\n",
       "      <td>-500</td>\n",
       "      <td>NaN</td>\n",
       "      <td>Scientist</td>\n",
       "      <td>19114.12</td>\n",
       "      <td>NaN</td>\n",
       "      <td>3</td>\n",
       "      <td>4</td>\n",
       "      <td>3</td>\n",
       "      <td>4</td>\n",
       "      <td>Auto Loan, Credit-Builder Loan, Personal Loan,...</td>\n",
       "      <td>...</td>\n",
       "      <td>Good</td>\n",
       "      <td>809.98</td>\n",
       "      <td>28.609352</td>\n",
       "      <td>22 Years and 3 Months</td>\n",
       "      <td>No</td>\n",
       "      <td>49.574949</td>\n",
       "      <td>81.699521</td>\n",
       "      <td>Low spent Medium value payments</td>\n",
       "      <td>331.209863</td>\n",
       "      <td>Good</td>\n",
       "    </tr>\n",
       "    <tr>\n",
       "      <th>2</th>\n",
       "      <td>23</td>\n",
       "      <td>NaN</td>\n",
       "      <td>Scientist</td>\n",
       "      <td>19114.12</td>\n",
       "      <td>NaN</td>\n",
       "      <td>3</td>\n",
       "      <td>4</td>\n",
       "      <td>3</td>\n",
       "      <td>4</td>\n",
       "      <td>Auto Loan, Credit-Builder Loan, Personal Loan,...</td>\n",
       "      <td>...</td>\n",
       "      <td>Good</td>\n",
       "      <td>809.98</td>\n",
       "      <td>31.377862</td>\n",
       "      <td>22 Years and 4 Months</td>\n",
       "      <td>No</td>\n",
       "      <td>49.574949</td>\n",
       "      <td>199.458074</td>\n",
       "      <td>Low spent Small value payments</td>\n",
       "      <td>223.451310</td>\n",
       "      <td>Good</td>\n",
       "    </tr>\n",
       "    <tr>\n",
       "      <th>3</th>\n",
       "      <td>23</td>\n",
       "      <td>NaN</td>\n",
       "      <td>Scientist</td>\n",
       "      <td>19114.12</td>\n",
       "      <td>1824.843333</td>\n",
       "      <td>3</td>\n",
       "      <td>4</td>\n",
       "      <td>3</td>\n",
       "      <td>4</td>\n",
       "      <td>Auto Loan, Credit-Builder Loan, Personal Loan,...</td>\n",
       "      <td>...</td>\n",
       "      <td>Good</td>\n",
       "      <td>809.98</td>\n",
       "      <td>24.797347</td>\n",
       "      <td>22 Years and 5 Months</td>\n",
       "      <td>No</td>\n",
       "      <td>49.574949</td>\n",
       "      <td>41.420153</td>\n",
       "      <td>High spent Medium value payments</td>\n",
       "      <td>341.489231</td>\n",
       "      <td>Good</td>\n",
       "    </tr>\n",
       "    <tr>\n",
       "      <th>4</th>\n",
       "      <td>23</td>\n",
       "      <td>NaN</td>\n",
       "      <td>Scientist</td>\n",
       "      <td>19114.12</td>\n",
       "      <td>NaN</td>\n",
       "      <td>3</td>\n",
       "      <td>4</td>\n",
       "      <td>3</td>\n",
       "      <td>4</td>\n",
       "      <td>Auto Loan, Credit-Builder Loan, Personal Loan,...</td>\n",
       "      <td>...</td>\n",
       "      <td>Good</td>\n",
       "      <td>809.98</td>\n",
       "      <td>27.262259</td>\n",
       "      <td>22 Years and 6 Months</td>\n",
       "      <td>No</td>\n",
       "      <td>49.574949</td>\n",
       "      <td>62.430172</td>\n",
       "      <td>!@9#%8</td>\n",
       "      <td>340.479212</td>\n",
       "      <td>Good</td>\n",
       "    </tr>\n",
       "  </tbody>\n",
       "</table>\n",
       "<p>5 rows × 24 columns</p>\n",
       "</div>"
      ],
      "text/plain": [
       "   Age  SSN Occupation  Annual_Income  Monthly_Inhand_Salary  \\\n",
       "0   23  NaN  Scientist       19114.12            1824.843333   \n",
       "1 -500  NaN  Scientist       19114.12                    NaN   \n",
       "2   23  NaN  Scientist       19114.12                    NaN   \n",
       "3   23  NaN  Scientist       19114.12            1824.843333   \n",
       "4   23  NaN  Scientist       19114.12                    NaN   \n",
       "\n",
       "   Num_Bank_Accounts  Num_Credit_Card  Interest_Rate  Num_of_Loan  \\\n",
       "0                  3                4              3            4   \n",
       "1                  3                4              3            4   \n",
       "2                  3                4              3            4   \n",
       "3                  3                4              3            4   \n",
       "4                  3                4              3            4   \n",
       "\n",
       "                                        Type_of_Loan  ...  Credit_Mix  \\\n",
       "0  Auto Loan, Credit-Builder Loan, Personal Loan,...  ...               \n",
       "1  Auto Loan, Credit-Builder Loan, Personal Loan,...  ...        Good   \n",
       "2  Auto Loan, Credit-Builder Loan, Personal Loan,...  ...        Good   \n",
       "3  Auto Loan, Credit-Builder Loan, Personal Loan,...  ...        Good   \n",
       "4  Auto Loan, Credit-Builder Loan, Personal Loan,...  ...        Good   \n",
       "\n",
       "   Outstanding_Debt  Credit_Utilization_Ratio     Credit_History_Age  \\\n",
       "0            809.98                 26.822620  22 Years and 1 Months   \n",
       "1            809.98                 28.609352  22 Years and 3 Months   \n",
       "2            809.98                 31.377862  22 Years and 4 Months   \n",
       "3            809.98                 24.797347  22 Years and 5 Months   \n",
       "4            809.98                 27.262259  22 Years and 6 Months   \n",
       "\n",
       "  Payment_of_Min_Amount  Total_EMI_per_month  Amount_invested_monthly  \\\n",
       "0                    No            49.574949                80.415295   \n",
       "1                    No            49.574949                81.699521   \n",
       "2                    No            49.574949               199.458074   \n",
       "3                    No            49.574949                41.420153   \n",
       "4                    No            49.574949                62.430172   \n",
       "\n",
       "                  Payment_Behaviour Monthly_Balance  Credit_Score  \n",
       "0   High spent Small value payments      312.494089          Good  \n",
       "1   Low spent Medium value payments      331.209863          Good  \n",
       "2    Low spent Small value payments      223.451310          Good  \n",
       "3  High spent Medium value payments      341.489231          Good  \n",
       "4                            !@9#%8      340.479212          Good  \n",
       "\n",
       "[5 rows x 24 columns]"
      ]
     },
     "execution_count": 3,
     "metadata": {},
     "output_type": "execute_result"
    }
   ],
   "source": [
    "df.head()"
   ]
  },
  {
   "cell_type": "code",
   "execution_count": 4,
   "metadata": {},
   "outputs": [
    {
     "name": "stdout",
     "output_type": "stream",
     "text": [
      "<class 'pandas.core.frame.DataFrame'>\n",
      "RangeIndex: 93465 entries, 0 to 93464\n",
      "Data columns (total 24 columns):\n",
      " #   Column                    Non-Null Count  Dtype  \n",
      "---  ------                    --------------  -----  \n",
      " 0   Age                       93465 non-null  int64  \n",
      " 1   SSN                       0 non-null      float64\n",
      " 2   Occupation                93465 non-null  object \n",
      " 3   Annual_Income             93465 non-null  float64\n",
      " 4   Monthly_Inhand_Salary     79447 non-null  float64\n",
      " 5   Num_Bank_Accounts         93465 non-null  int64  \n",
      " 6   Num_Credit_Card           93465 non-null  int64  \n",
      " 7   Interest_Rate             93465 non-null  int64  \n",
      " 8   Num_of_Loan               93465 non-null  int64  \n",
      " 9   Type_of_Loan              82959 non-null  object \n",
      " 10  Delay_from_due_date       93465 non-null  int64  \n",
      " 11  Num_of_Delayed_Payment    86910 non-null  float64\n",
      " 12  Changed_Credit_Limit      91479 non-null  float64\n",
      " 13  Num_Credit_Inquiries      91642 non-null  float64\n",
      " 14  Credit_Mix                93465 non-null  object \n",
      " 15  Outstanding_Debt          93465 non-null  float64\n",
      " 16  Credit_Utilization_Ratio  93465 non-null  float64\n",
      " 17  Credit_History_Age        85026 non-null  object \n",
      " 18  Payment_of_Min_Amount     93465 non-null  object \n",
      " 19  Total_EMI_per_month       93465 non-null  float64\n",
      " 20  Amount_invested_monthly   89274 non-null  float64\n",
      " 21  Payment_Behaviour         93465 non-null  object \n",
      " 22  Monthly_Balance           92347 non-null  float64\n",
      " 23  Credit_Score              93465 non-null  object \n",
      "dtypes: float64(11), int64(6), object(7)\n",
      "memory usage: 17.1+ MB\n"
     ]
    }
   ],
   "source": [
    "df.info()"
   ]
  },
  {
   "cell_type": "markdown",
   "metadata": {},
   "source": [
    "### Some More Cleaning"
   ]
  },
  {
   "cell_type": "code",
   "execution_count": 5,
   "metadata": {},
   "outputs": [
    {
     "data": {
      "text/plain": [
       "array(['22 Years and 1 Months', '22 Years and 3 Months',\n",
       "       '22 Years and 4 Months', '22 Years and 5 Months',\n",
       "       '22 Years and 6 Months', '22 Years and 7 Months', nan,\n",
       "       '26 Years and 7 Months', '26 Years and 8 Months',\n",
       "       '26 Years and 10 Months', '26 Years and 11 Months',\n",
       "       '27 Years and 0 Months', '27 Years and 1 Months',\n",
       "       '27 Years and 2 Months', '17 Years and 9 Months',\n",
       "       '17 Years and 10 Months', '17 Years and 11 Months',\n",
       "       '18 Years and 1 Months', '18 Years and 2 Months',\n",
       "       '18 Years and 3 Months', '18 Years and 4 Months',\n",
       "       '17 Years and 3 Months', '17 Years and 4 Months',\n",
       "       '17 Years and 5 Months', '30 Years and 8 Months',\n",
       "       '30 Years and 9 Months', '30 Years and 11 Months',\n",
       "       '31 Years and 0 Months', '31 Years and 1 Months',\n",
       "       '31 Years and 2 Months', '32 Years and 0 Months',\n",
       "       '32 Years and 2 Months', '32 Years and 3 Months',\n",
       "       '32 Years and 5 Months', '32 Years and 6 Months',\n",
       "       '30 Years and 7 Months', '30 Years and 10 Months',\n",
       "       '14 Years and 8 Months', '14 Years and 9 Months',\n",
       "       '14 Years and 10 Months', '14 Years and 11 Months',\n",
       "       '15 Years and 1 Months', '15 Years and 2 Months',\n",
       "       '21 Years and 5 Months', '21 Years and 6 Months',\n",
       "       '21 Years and 7 Months', '21 Years and 8 Months',\n",
       "       '21 Years and 9 Months', '21 Years and 10 Months',\n",
       "       '21 Years and 11 Months', '26 Years and 9 Months',\n",
       "       '19 Years and 2 Months', '19 Years and 3 Months',\n",
       "       '19 Years and 4 Months', '19 Years and 5 Months',\n",
       "       '19 Years and 6 Months', '19 Years and 7 Months',\n",
       "       '19 Years and 8 Months', '25 Years and 6 Months',\n",
       "       '25 Years and 7 Months', '25 Years and 8 Months',\n",
       "       '25 Years and 9 Months', '25 Years and 10 Months',\n",
       "       '25 Years and 11 Months', '27 Years and 3 Months',\n",
       "       '27 Years and 4 Months', '27 Years and 5 Months',\n",
       "       '8 Years and 11 Months', '9 Years and 0 Months',\n",
       "       '9 Years and 1 Months', '9 Years and 2 Months',\n",
       "       '9 Years and 3 Months', '9 Years and 4 Months',\n",
       "       '9 Years and 6 Months', '18 Years and 5 Months',\n",
       "       '18 Years and 6 Months', '18 Years and 8 Months',\n",
       "       '18 Years and 9 Months', '16 Years and 10 Months',\n",
       "       '16 Years and 11 Months', '17 Years and 0 Months',\n",
       "       '17 Years and 1 Months', '17 Years and 2 Months',\n",
       "       '29 Years and 2 Months', '29 Years and 3 Months',\n",
       "       '29 Years and 4 Months', '29 Years and 6 Months',\n",
       "       '29 Years and 8 Months', '29 Years and 9 Months',\n",
       "       '6 Years and 5 Months', '6 Years and 6 Months',\n",
       "       '6 Years and 7 Months', '6 Years and 8 Months',\n",
       "       '6 Years and 9 Months', '6 Years and 10 Months',\n",
       "       '6 Years and 11 Months', '7 Years and 0 Months',\n",
       "       '27 Years and 6 Months', '27 Years and 7 Months',\n",
       "       '27 Years and 8 Months', '27 Years and 9 Months',\n",
       "       '18 Years and 7 Months', '19 Years and 9 Months',\n",
       "       '19 Years and 10 Months', '10 Years and 1 Months',\n",
       "       '10 Years and 2 Months', '10 Years and 3 Months',\n",
       "       '10 Years and 4 Months', '10 Years and 5 Months',\n",
       "       '10 Years and 6 Months', '10 Years and 7 Months',\n",
       "       '10 Years and 8 Months', '32 Years and 9 Months',\n",
       "       '32 Years and 10 Months', '32 Years and 11 Months',\n",
       "       '33 Years and 4 Months', '12 Years and 5 Months',\n",
       "       '12 Years and 6 Months', '12 Years and 7 Months',\n",
       "       '12 Years and 8 Months', '12 Years and 10 Months',\n",
       "       '12 Years and 3 Months', '12 Years and 4 Months',\n",
       "       '12 Years and 9 Months', '13 Years and 8 Months',\n",
       "       '14 Years and 0 Months', '14 Years and 1 Months',\n",
       "       '14 Years and 2 Months', '14 Years and 3 Months',\n",
       "       '30 Years and 3 Months', '30 Years and 4 Months',\n",
       "       '30 Years and 5 Months', '30 Years and 6 Months',\n",
       "       '8 Years and 9 Months', '8 Years and 10 Months',\n",
       "       '18 Years and 10 Months', '18 Years and 11 Months',\n",
       "       '19 Years and 0 Months', '19 Years and 1 Months',\n",
       "       '8 Years and 8 Months', '13 Years and 1 Months',\n",
       "       '13 Years and 2 Months', '13 Years and 3 Months',\n",
       "       '13 Years and 5 Months', '13 Years and 6 Months',\n",
       "       '13 Years and 7 Months', '22 Years and 0 Months',\n",
       "       '26 Years and 0 Months', '26 Years and 1 Months',\n",
       "       '26 Years and 2 Months', '13 Years and 9 Months',\n",
       "       '27 Years and 11 Months', '28 Years and 0 Months',\n",
       "       '28 Years and 2 Months', '28 Years and 3 Months',\n",
       "       '28 Years and 5 Months', '7 Years and 10 Months',\n",
       "       '7 Years and 11 Months', '8 Years and 0 Months',\n",
       "       '8 Years and 1 Months', '8 Years and 2 Months',\n",
       "       '8 Years and 3 Months', '8 Years and 4 Months',\n",
       "       '8 Years and 5 Months', '24 Years and 3 Months',\n",
       "       '24 Years and 4 Months', '24 Years and 5 Months',\n",
       "       '24 Years and 6 Months', '24 Years and 7 Months',\n",
       "       '24 Years and 8 Months', '24 Years and 9 Months',\n",
       "       '17 Years and 6 Months', '17 Years and 7 Months',\n",
       "       '1 Years and 2 Months', '1 Years and 3 Months',\n",
       "       '1 Years and 4 Months', '1 Years and 5 Months',\n",
       "       '1 Years and 6 Months', '1 Years and 7 Months',\n",
       "       '1 Years and 8 Months', '10 Years and 11 Months',\n",
       "       '11 Years and 0 Months', '11 Years and 1 Months',\n",
       "       '11 Years and 2 Months', '11 Years and 3 Months',\n",
       "       '11 Years and 4 Months', '11 Years and 5 Months',\n",
       "       '11 Years and 6 Months', '20 Years and 0 Months',\n",
       "       '20 Years and 1 Months', '10 Years and 9 Months',\n",
       "       '10 Years and 10 Months', '13 Years and 11 Months',\n",
       "       '14 Years and 4 Months', '14 Years and 5 Months',\n",
       "       '14 Years and 6 Months', '20 Years and 8 Months',\n",
       "       '20 Years and 9 Months', '20 Years and 10 Months',\n",
       "       '20 Years and 11 Months', '21 Years and 0 Months',\n",
       "       '21 Years and 1 Months', '21 Years and 2 Months',\n",
       "       '21 Years and 3 Months', '0 Years and 4 Months',\n",
       "       '0 Years and 5 Months', '0 Years and 6 Months',\n",
       "       '0 Years and 8 Months', '0 Years and 9 Months',\n",
       "       '0 Years and 10 Months', '31 Years and 8 Months',\n",
       "       '31 Years and 9 Months', '31 Years and 10 Months',\n",
       "       '31 Years and 11 Months', '32 Years and 1 Months',\n",
       "       '12 Years and 11 Months', '13 Years and 0 Months',\n",
       "       '27 Years and 10 Months', '11 Years and 7 Months',\n",
       "       '11 Years and 8 Months', '11 Years and 9 Months',\n",
       "       '11 Years and 10 Months', '24 Years and 10 Months',\n",
       "       '24 Years and 11 Months', '25 Years and 0 Months',\n",
       "       '25 Years and 1 Months', '25 Years and 2 Months',\n",
       "       '25 Years and 3 Months', '18 Years and 0 Months',\n",
       "       '31 Years and 3 Months', '31 Years and 4 Months',\n",
       "       '31 Years and 5 Months', '31 Years and 6 Months',\n",
       "       '31 Years and 7 Months', '17 Years and 8 Months',\n",
       "       '5 Years and 2 Months', '5 Years and 3 Months',\n",
       "       '5 Years and 4 Months', '5 Years and 5 Months',\n",
       "       '5 Years and 6 Months', '5 Years and 7 Months',\n",
       "       '5 Years and 8 Months', '5 Years and 9 Months',\n",
       "       '2 Years and 11 Months', '3 Years and 0 Months',\n",
       "       '3 Years and 1 Months', '3 Years and 2 Months',\n",
       "       '3 Years and 3 Months', '3 Years and 4 Months',\n",
       "       '3 Years and 5 Months', '3 Years and 6 Months',\n",
       "       '13 Years and 4 Months', '16 Years and 4 Months',\n",
       "       '16 Years and 5 Months', '16 Years and 6 Months',\n",
       "       '16 Years and 7 Months', '16 Years and 8 Months',\n",
       "       '16 Years and 9 Months', '22 Years and 11 Months',\n",
       "       '23 Years and 0 Months', '23 Years and 2 Months',\n",
       "       '23 Years and 3 Months', '23 Years and 4 Months',\n",
       "       '23 Years and 5 Months', '23 Years and 6 Months',\n",
       "       '8 Years and 6 Months', '8 Years and 7 Months',\n",
       "       '4 Years and 5 Months', '4 Years and 6 Months',\n",
       "       '4 Years and 7 Months', '4 Years and 8 Months',\n",
       "       '4 Years and 9 Months', '4 Years and 10 Months',\n",
       "       '4 Years and 11 Months', '5 Years and 0 Months',\n",
       "       '32 Years and 8 Months', '33 Years and 0 Months',\n",
       "       '33 Years and 1 Months', '33 Years and 2 Months',\n",
       "       '33 Years and 3 Months', '12 Years and 2 Months',\n",
       "       '32 Years and 4 Months', '29 Years and 11 Months',\n",
       "       '30 Years and 0 Months', '30 Years and 2 Months',\n",
       "       '26 Years and 3 Months', '26 Years and 4 Months',\n",
       "       '26 Years and 5 Months', '26 Years and 6 Months',\n",
       "       '7 Years and 6 Months', '7 Years and 7 Months',\n",
       "       '7 Years and 8 Months', '7 Years and 9 Months',\n",
       "       '28 Years and 4 Months', '28 Years and 6 Months',\n",
       "       '28 Years and 8 Months', '28 Years and 9 Months',\n",
       "       '28 Years and 10 Months', '29 Years and 5 Months',\n",
       "       '29 Years and 7 Months', '19 Years and 11 Months',\n",
       "       '20 Years and 2 Months', '20 Years and 3 Months',\n",
       "       '20 Years and 5 Months', '20 Years and 6 Months',\n",
       "       '20 Years and 4 Months', '20 Years and 7 Months',\n",
       "       '28 Years and 7 Months', '28 Years and 11 Months',\n",
       "       '29 Years and 0 Months', '13 Years and 10 Months',\n",
       "       '1 Years and 9 Months', '1 Years and 10 Months',\n",
       "       '1 Years and 11 Months', '33 Years and 5 Months',\n",
       "       '33 Years and 6 Months', '33 Years and 7 Months',\n",
       "       '33 Years and 8 Months', '29 Years and 1 Months',\n",
       "       '5 Years and 1 Months', '5 Years and 10 Months',\n",
       "       '5 Years and 11 Months', '6 Years and 0 Months',\n",
       "       '6 Years and 1 Months', '6 Years and 2 Months',\n",
       "       '6 Years and 3 Months', '22 Years and 9 Months',\n",
       "       '22 Years and 10 Months', '23 Years and 1 Months',\n",
       "       '22 Years and 2 Months', '15 Years and 4 Months',\n",
       "       '15 Years and 5 Months', '15 Years and 6 Months',\n",
       "       '15 Years and 7 Months', '15 Years and 8 Months',\n",
       "       '15 Years and 9 Months', '15 Years and 10 Months',\n",
       "       '15 Years and 11 Months', '2 Years and 3 Months',\n",
       "       '2 Years and 4 Months', '2 Years and 5 Months',\n",
       "       '2 Years and 6 Months', '2 Years and 7 Months',\n",
       "       '2 Years and 8 Months', '2 Years and 9 Months',\n",
       "       '2 Years and 10 Months', '2 Years and 0 Months',\n",
       "       '16 Years and 2 Months', '16 Years and 3 Months',\n",
       "       '22 Years and 8 Months', '9 Years and 5 Months',\n",
       "       '9 Years and 7 Months', '9 Years and 8 Months',\n",
       "       '9 Years and 9 Months', '11 Years and 11 Months',\n",
       "       '12 Years and 0 Months', '12 Years and 1 Months',\n",
       "       '28 Years and 1 Months', '21 Years and 4 Months',\n",
       "       '24 Years and 2 Months', '16 Years and 0 Months',\n",
       "       '14 Years and 7 Months', '15 Years and 0 Months',\n",
       "       '16 Years and 1 Months', '25 Years and 4 Months',\n",
       "       '25 Years and 5 Months', '15 Years and 3 Months',\n",
       "       '7 Years and 1 Months', '7 Years and 2 Months',\n",
       "       '7 Years and 3 Months', '7 Years and 4 Months',\n",
       "       '7 Years and 5 Months', '23 Years and 7 Months',\n",
       "       '23 Years and 8 Months', '23 Years and 9 Months',\n",
       "       '30 Years and 1 Months', '29 Years and 10 Months',\n",
       "       '9 Years and 10 Months', '9 Years and 11 Months',\n",
       "       '10 Years and 0 Months', '2 Years and 2 Months',\n",
       "       '23 Years and 10 Months', '23 Years and 11 Months',\n",
       "       '24 Years and 0 Months', '24 Years and 1 Months',\n",
       "       '6 Years and 4 Months', '0 Years and 1 Months',\n",
       "       '0 Years and 2 Months', '0 Years and 3 Months',\n",
       "       '0 Years and 7 Months', '3 Years and 8 Months',\n",
       "       '32 Years and 7 Months', '3 Years and 7 Months',\n",
       "       '3 Years and 9 Months', '3 Years and 10 Months',\n",
       "       '0 Years and 11 Months', '1 Years and 0 Months',\n",
       "       '1 Years and 1 Months', '4 Years and 4 Months',\n",
       "       '3 Years and 11 Months', '4 Years and 0 Months',\n",
       "       '4 Years and 1 Months', '4 Years and 2 Months',\n",
       "       '2 Years and 1 Months', '4 Years and 3 Months'], dtype=object)"
      ]
     },
     "execution_count": 5,
     "metadata": {},
     "output_type": "execute_result"
    }
   ],
   "source": [
    "#investigate nan value of credit history age\n",
    "df['Credit_History_Age'].unique()"
   ]
  },
  {
   "cell_type": "code",
   "execution_count": 6,
   "metadata": {},
   "outputs": [],
   "source": [
    "#Drop rows with nan value in Credit_Mix\n",
    "\n",
    "#converted object to string to make accessing the nan value easier\n",
    "df['Credit_History_Age'] = df['Credit_History_Age'].astype(str)\n",
    "\n",
    "# Saved dataframe with 'nan' row\n",
    "df = df[df['Credit_History_Age'] != 'nan']"
   ]
  },
  {
   "cell_type": "code",
   "execution_count": 7,
   "metadata": {},
   "outputs": [
    {
     "data": {
      "text/plain": [
       "array([' ', 'Good', 'Standard', 'Bad'], dtype=object)"
      ]
     },
     "execution_count": 7,
     "metadata": {},
     "output_type": "execute_result"
    }
   ],
   "source": [
    "#Investigate empty value in Credit_Mix\n",
    "df['Credit_Mix'].unique()"
   ]
  },
  {
   "cell_type": "code",
   "execution_count": 8,
   "metadata": {},
   "outputs": [],
   "source": [
    "#Drop rows with empty value in Credit_Mix\n",
    "df = df[df['Credit_Mix'] != ' ']"
   ]
  },
  {
   "cell_type": "code",
   "execution_count": 9,
   "metadata": {},
   "outputs": [
    {
     "data": {
      "text/plain": [
       "array(['Low spent Medium value payments',\n",
       "       'Low spent Small value payments',\n",
       "       'High spent Medium value payments', '!@9#%8',\n",
       "       'High spent Large value payments',\n",
       "       'High spent Small value payments',\n",
       "       'Low spent Large value payments'], dtype=object)"
      ]
     },
     "execution_count": 9,
     "metadata": {},
     "output_type": "execute_result"
    }
   ],
   "source": [
    "# investigate !@9#%8 value in Payment Behavior\n",
    "df['Payment_Behaviour'].unique()"
   ]
  },
  {
   "cell_type": "code",
   "execution_count": 10,
   "metadata": {},
   "outputs": [],
   "source": [
    "#Drop rows with !@9#%8 value in Credit_Mix\n",
    "df = df[df['Payment_Behaviour'] != '!@9#%8']"
   ]
  },
  {
   "cell_type": "markdown",
   "metadata": {},
   "source": [
    "### Addressing the numerical columns with null values\n",
    "\n",
    "- I will go through each numerical column and assess the best imputation method on a case by case basis\n",
    "- Right now, I've opted to keep most outliers in the dataset because they may have some predictive power. This might change later."
   ]
  },
  {
   "cell_type": "code",
   "execution_count": 11,
   "metadata": {},
   "outputs": [
    {
     "data": {
      "text/plain": [
       "array([-500,   23,   28, ..., 8425, 4808, 2263], dtype=int64)"
      ]
     },
     "execution_count": 11,
     "metadata": {},
     "output_type": "execute_result"
    }
   ],
   "source": [
    "#check values of age. After brief look at the csv, there appears to be unrealistic ages like negative values or values > 1000\n",
    "df['Age'].unique()"
   ]
  },
  {
   "cell_type": "code",
   "execution_count": 12,
   "metadata": {},
   "outputs": [],
   "source": [
    "#Lets drop any ages less than 0 and greater than 100. This seems safer them imputing because I'm not sure if those observations are real people.\n",
    "df = df[(df['Age'] >= 0) & (df['Age'] <= 100)]"
   ]
  },
  {
   "cell_type": "code",
   "execution_count": 13,
   "metadata": {},
   "outputs": [
    {
     "data": {
      "text/plain": [
       "<Axes: ylabel='Frequency'>"
      ]
     },
     "execution_count": 13,
     "metadata": {},
     "output_type": "execute_result"
    },
    {
     "data": {
      "image/png": "[encoded data removed]",
      "text/plain": [
       "<Figure size 640x480 with 1 Axes>"
      ]
     },
     "metadata": {},
     "output_type": "display_data"
    }
   ],
   "source": [
    "#histogram of feature with null values: Amount_invested_monthly\n",
    "df['Amount_invested_monthly'].plot(kind='hist', bins = 1000)"
   ]
  },
  {
   "cell_type": "code",
   "execution_count": 14,
   "metadata": {},
   "outputs": [],
   "source": [
    "# replace null values for the 'Amount_invested_monthly' with median value due to skewed data and outliers close to 10000\n",
    "median = df['Amount_invested_monthly'].median()\n",
    "df['Amount_invested_monthly'].fillna(median, inplace = True)"
   ]
  },
  {
   "cell_type": "code",
   "execution_count": 15,
   "metadata": {},
   "outputs": [
    {
     "data": {
      "text/plain": [
       "<Axes: ylabel='Frequency'>"
      ]
     },
     "execution_count": 15,
     "metadata": {},
     "output_type": "execute_result"
    },
    {
     "data": {
      "image/png": "[encoded data removed]",
      "text/plain": [
       "<Figure size 640x480 with 1 Axes>"
      ]
     },
     "metadata": {},
     "output_type": "display_data"
    }
   ],
   "source": [
    "# histogram of feature with null values: Monthly_Inhand_Salary\n",
    "df['Monthly_Inhand_Salary'].plot(kind='hist')"
   ]
  },
  {
   "cell_type": "code",
   "execution_count": 16,
   "metadata": {},
   "outputs": [],
   "source": [
    "# replace null values for the 'Monthly_Inhand_Salary' with median value because the data is skewed\n",
    "median = df['Monthly_Inhand_Salary'].median()\n",
    "df['Monthly_Inhand_Salary'].fillna(median, inplace = True)"
   ]
  },
  {
   "cell_type": "code",
   "execution_count": 17,
   "metadata": {},
   "outputs": [
    {
     "name": "stdout",
     "output_type": "stream",
     "text": [
      "4397.0\n"
     ]
    },
    {
     "data": {
      "image/png": "[encoded data removed]",
      "text/plain": [
       "<Figure size 640x480 with 1 Axes>"
      ]
     },
     "metadata": {},
     "output_type": "display_data"
    }
   ],
   "source": [
    "# histogram of feature with null values: Num_of_Delayed_Payment\n",
    "\n",
    "# initial attempts to plot this histogram showed that it was skewed by a large outlier around at value 'max'\n",
    "max = df['Num_of_Delayed_Payment'].max()\n",
    "\n",
    "#set the limits of the graph to not display the outlier, so the rest of the data points appear more visible\n",
    "df['Num_of_Delayed_Payment'].plot(kind ='hist', bins = 1000).set_xlim(-1, 100)\n",
    "print(max)"
   ]
  },
  {
   "cell_type": "code",
   "execution_count": 18,
   "metadata": {},
   "outputs": [],
   "source": [
    "# Data is approximately normal, but due to extremely high outlier in dataset, I will fill na values with the median\n",
    "median = df['Num_of_Delayed_Payment'].median()\n",
    "df['Num_of_Delayed_Payment'].fillna(median, inplace = True)"
   ]
  },
  {
   "cell_type": "code",
   "execution_count": 19,
   "metadata": {},
   "outputs": [
    {
     "data": {
      "text/plain": [
       "<Axes: ylabel='Frequency'>"
      ]
     },
     "execution_count": 19,
     "metadata": {},
     "output_type": "execute_result"
    },
    {
     "data": {
      "image/png": "[encoded data removed]",
      "text/plain": [
       "<Figure size 640x480 with 1 Axes>"
      ]
     },
     "metadata": {},
     "output_type": "display_data"
    }
   ],
   "source": [
    "# histogram of feature with null values: Changed_Credit_Limit\n",
    "df['Changed_Credit_Limit'].plot(kind = 'hist')"
   ]
  },
  {
   "cell_type": "code",
   "execution_count": 20,
   "metadata": {},
   "outputs": [],
   "source": [
    "# replace null values with median due to skewed histogram\n",
    "median = df['Changed_Credit_Limit'].median()\n",
    "df['Changed_Credit_Limit'].fillna(median, inplace = True)"
   ]
  },
  {
   "cell_type": "code",
   "execution_count": 21,
   "metadata": {},
   "outputs": [
    {
     "name": "stdout",
     "output_type": "stream",
     "text": [
      "2594.0\n"
     ]
    },
    {
     "data": {
      "text/plain": [
       "(-1.0, 100.0)"
      ]
     },
     "execution_count": 21,
     "metadata": {},
     "output_type": "execute_result"
    },
    {
     "data": {
      "image/png": "[encoded data removed]",
      "text/plain": [
       "<Figure size 640x480 with 1 Axes>"
      ]
     },
     "metadata": {},
     "output_type": "display_data"
    }
   ],
   "source": [
    "#  plot histogram of feature with null values: Num_Credit_Inquiries\n",
    "\n",
    "# initial attempts to plot this histogram showed that it was skewed by a large outlier around at value 'max'\n",
    "max = df['Num_Credit_Inquiries'].max()\n",
    "print(max)\n",
    "\n",
    "# set limits of x axis to exclude outlier\n",
    "df['Num_Credit_Inquiries'].plot(kind = 'hist', bins = 1000).set_xlim(-1, 100)"
   ]
  },
  {
   "cell_type": "code",
   "execution_count": 22,
   "metadata": {},
   "outputs": [],
   "source": [
    "#data is skewed with outliers so I will replace the na values with the median\n",
    "median = df['Num_Credit_Inquiries'].median()\n",
    "df['Num_Credit_Inquiries'].fillna(median, inplace = True)"
   ]
  },
  {
   "cell_type": "code",
   "execution_count": 23,
   "metadata": {},
   "outputs": [
    {
     "data": {
      "text/plain": [
       "<Axes: ylabel='Frequency'>"
      ]
     },
     "execution_count": 23,
     "metadata": {},
     "output_type": "execute_result"
    },
    {
     "data": {
      "image/png": "[encoded data removed]",
      "text/plain": [
       "<Figure size 640x480 with 1 Axes>"
      ]
     },
     "metadata": {},
     "output_type": "display_data"
    }
   ],
   "source": [
    "#  plot histogram of feature with null values: Monthly_Balance\n",
    "df['Monthly_Balance'].plot(kind = 'hist')"
   ]
  },
  {
   "cell_type": "code",
   "execution_count": 24,
   "metadata": {},
   "outputs": [],
   "source": [
    "#Data is skewed so I will fill na values with the median\n",
    "median = df['Monthly_Balance'].median()\n",
    "df['Monthly_Balance'].fillna(median, inplace = True)"
   ]
  },
  {
   "cell_type": "markdown",
   "metadata": {},
   "source": [
    "### Addressing Categorical Columns\n",
    " - I will create dummy variables for categorical data and ordinal encode ordinal categorical data. This will be concacted to df after numerical data scaling.\n",
    " - Note: after initial attempt at this model, different types of encoding may improve accuracy."
   ]
  },
  {
   "cell_type": "code",
   "execution_count": null,
   "metadata": {},
   "outputs": [],
   "source": [
    "#drop na values of Type_of_Loan\n",
    "df['Type_of_Loan'].dropna(axis = 0, inplace = True)\n",
    "\n",
    "#These na values may be filled with another type of encoding later on"
   ]
  },
  {
   "cell_type": "code",
   "execution_count": 26,
   "metadata": {},
   "outputs": [],
   "source": [
    "#create dummy df's for each non-ordinal categorical variable\n",
    "type_of_loan_dummies = pd.get_dummies(df['Type_of_Loan'])\n",
    "payment_of_min_amount_dummies = pd.get_dummies(df['Payment_of_Min_Amount'])\n",
    "payment_behaviour_dummies = pd.get_dummies(df['Payment_Behaviour'])\n",
    "occupation_dummies = pd.get_dummies(df['Occupation'])"
   ]
  },
  {
   "cell_type": "code",
   "execution_count": 27,
   "metadata": {},
   "outputs": [],
   "source": [
    "#convert Credit_Mix to ordinal numerical column\n",
    "target_list = ['Bad', 'Standard', 'Good']\n",
    "\n",
    "# create codes for Credit_Mix: output should be 0 = 'Bad', 1 = 'Standard', 2 = 'Good'\n",
    "df['Credit_Mix'] = pd.Categorical(df['Credit_Mix'], categories= target_list, ordered=True).codes"
   ]
  },
  {
   "cell_type": "code",
   "execution_count": 28,
   "metadata": {},
   "outputs": [],
   "source": [
    "# convert Credit_History_Age from a string to a count of the months\n",
    "def convert_to_months(duration_str):\n",
    "    parts = duration_str.split(' ')\n",
    "    years = int(parts[0])\n",
    "    months = int(parts[3])\n",
    "    total_months = years * 12 + months\n",
    "    return total_months\n",
    "\n",
    "#converted the object 'Credit_History Age' a string and apply the convert_to_months function to the series to get the count of months\n",
    "df['Credit_History_Age'] = df['Credit_History_Age'].astype(dtype='str').apply(convert_to_months)"
   ]
  },
  {
   "cell_type": "code",
   "execution_count": 29,
   "metadata": {},
   "outputs": [],
   "source": [
    "#drop SSN column and categorical features that were converted to dummies\n",
    "df.drop(['SSN', 'Type_of_Loan', 'Payment_of_Min_Amount', 'Payment_Behaviour', 'Occupation'], axis = 1, inplace = True)"
   ]
  },
  {
   "cell_type": "code",
   "execution_count": 30,
   "metadata": {},
   "outputs": [
    {
     "data": {
      "text/html": [
       "<div>\n",
       "<style scoped>\n",
       "    .dataframe tbody tr th:only-of-type {\n",
       "        vertical-align: middle;\n",
       "    }\n",
       "\n",
       "    .dataframe tbody tr th {\n",
       "        vertical-align: top;\n",
       "    }\n",
       "\n",
       "    .dataframe thead th {\n",
       "        text-align: right;\n",
       "    }\n",
       "</style>\n",
       "<table border=\"1\" class=\"dataframe\">\n",
       "  <thead>\n",
       "    <tr style=\"text-align: right;\">\n",
       "      <th></th>\n",
       "      <th>Age</th>\n",
       "      <th>Annual_Income</th>\n",
       "      <th>Monthly_Inhand_Salary</th>\n",
       "      <th>Num_Bank_Accounts</th>\n",
       "      <th>Num_Credit_Card</th>\n",
       "      <th>Interest_Rate</th>\n",
       "      <th>Num_of_Loan</th>\n",
       "      <th>Delay_from_due_date</th>\n",
       "      <th>Num_of_Delayed_Payment</th>\n",
       "      <th>Changed_Credit_Limit</th>\n",
       "      <th>Num_Credit_Inquiries</th>\n",
       "      <th>Credit_Mix</th>\n",
       "      <th>Outstanding_Debt</th>\n",
       "      <th>Credit_Utilization_Ratio</th>\n",
       "      <th>Credit_History_Age</th>\n",
       "      <th>Total_EMI_per_month</th>\n",
       "      <th>Amount_invested_monthly</th>\n",
       "      <th>Monthly_Balance</th>\n",
       "      <th>Credit_Score</th>\n",
       "    </tr>\n",
       "  </thead>\n",
       "  <tbody>\n",
       "    <tr>\n",
       "      <th>2</th>\n",
       "      <td>23</td>\n",
       "      <td>19114.12</td>\n",
       "      <td>3088.874167</td>\n",
       "      <td>3</td>\n",
       "      <td>4</td>\n",
       "      <td>3</td>\n",
       "      <td>4</td>\n",
       "      <td>5</td>\n",
       "      <td>4.0</td>\n",
       "      <td>6.27</td>\n",
       "      <td>4.0</td>\n",
       "      <td>2</td>\n",
       "      <td>809.98</td>\n",
       "      <td>31.377862</td>\n",
       "      <td>268</td>\n",
       "      <td>49.574949</td>\n",
       "      <td>199.458074</td>\n",
       "      <td>223.451310</td>\n",
       "      <td>Good</td>\n",
       "    </tr>\n",
       "    <tr>\n",
       "      <th>3</th>\n",
       "      <td>23</td>\n",
       "      <td>19114.12</td>\n",
       "      <td>1824.843333</td>\n",
       "      <td>3</td>\n",
       "      <td>4</td>\n",
       "      <td>3</td>\n",
       "      <td>4</td>\n",
       "      <td>6</td>\n",
       "      <td>14.0</td>\n",
       "      <td>11.27</td>\n",
       "      <td>4.0</td>\n",
       "      <td>2</td>\n",
       "      <td>809.98</td>\n",
       "      <td>24.797347</td>\n",
       "      <td>269</td>\n",
       "      <td>49.574949</td>\n",
       "      <td>41.420153</td>\n",
       "      <td>341.489231</td>\n",
       "      <td>Good</td>\n",
       "    </tr>\n",
       "    <tr>\n",
       "      <th>5</th>\n",
       "      <td>23</td>\n",
       "      <td>19114.12</td>\n",
       "      <td>1824.843333</td>\n",
       "      <td>3</td>\n",
       "      <td>4</td>\n",
       "      <td>3</td>\n",
       "      <td>4</td>\n",
       "      <td>3</td>\n",
       "      <td>8.0</td>\n",
       "      <td>11.27</td>\n",
       "      <td>4.0</td>\n",
       "      <td>2</td>\n",
       "      <td>809.98</td>\n",
       "      <td>22.537593</td>\n",
       "      <td>271</td>\n",
       "      <td>49.574949</td>\n",
       "      <td>178.344067</td>\n",
       "      <td>244.565317</td>\n",
       "      <td>Good</td>\n",
       "    </tr>\n",
       "    <tr>\n",
       "      <th>7</th>\n",
       "      <td>28</td>\n",
       "      <td>34847.84</td>\n",
       "      <td>3037.986667</td>\n",
       "      <td>2</td>\n",
       "      <td>4</td>\n",
       "      <td>6</td>\n",
       "      <td>1</td>\n",
       "      <td>3</td>\n",
       "      <td>4.0</td>\n",
       "      <td>5.42</td>\n",
       "      <td>2.0</td>\n",
       "      <td>2</td>\n",
       "      <td>605.03</td>\n",
       "      <td>24.464031</td>\n",
       "      <td>319</td>\n",
       "      <td>18.816215</td>\n",
       "      <td>104.291825</td>\n",
       "      <td>470.690627</td>\n",
       "      <td>Standard</td>\n",
       "    </tr>\n",
       "    <tr>\n",
       "      <th>8</th>\n",
       "      <td>28</td>\n",
       "      <td>34847.84</td>\n",
       "      <td>3037.986667</td>\n",
       "      <td>2</td>\n",
       "      <td>4</td>\n",
       "      <td>6</td>\n",
       "      <td>1</td>\n",
       "      <td>7</td>\n",
       "      <td>1.0</td>\n",
       "      <td>7.42</td>\n",
       "      <td>2.0</td>\n",
       "      <td>2</td>\n",
       "      <td>605.03</td>\n",
       "      <td>38.550848</td>\n",
       "      <td>320</td>\n",
       "      <td>18.816215</td>\n",
       "      <td>40.391238</td>\n",
       "      <td>484.591214</td>\n",
       "      <td>Good</td>\n",
       "    </tr>\n",
       "  </tbody>\n",
       "</table>\n",
       "</div>"
      ],
      "text/plain": [
       "   Age  Annual_Income  Monthly_Inhand_Salary  Num_Bank_Accounts  \\\n",
       "2   23       19114.12            3088.874167                  3   \n",
       "3   23       19114.12            1824.843333                  3   \n",
       "5   23       19114.12            1824.843333                  3   \n",
       "7   28       34847.84            3037.986667                  2   \n",
       "8   28       34847.84            3037.986667                  2   \n",
       "\n",
       "   Num_Credit_Card  Interest_Rate  Num_of_Loan  Delay_from_due_date  \\\n",
       "2                4              3            4                    5   \n",
       "3                4              3            4                    6   \n",
       "5                4              3            4                    3   \n",
       "7                4              6            1                    3   \n",
       "8                4              6            1                    7   \n",
       "\n",
       "   Num_of_Delayed_Payment  Changed_Credit_Limit  Num_Credit_Inquiries  \\\n",
       "2                     4.0                  6.27                   4.0   \n",
       "3                    14.0                 11.27                   4.0   \n",
       "5                     8.0                 11.27                   4.0   \n",
       "7                     4.0                  5.42                   2.0   \n",
       "8                     1.0                  7.42                   2.0   \n",
       "\n",
       "   Credit_Mix  Outstanding_Debt  Credit_Utilization_Ratio  Credit_History_Age  \\\n",
       "2           2            809.98                 31.377862                 268   \n",
       "3           2            809.98                 24.797347                 269   \n",
       "5           2            809.98                 22.537593                 271   \n",
       "7           2            605.03                 24.464031                 319   \n",
       "8           2            605.03                 38.550848                 320   \n",
       "\n",
       "   Total_EMI_per_month  Amount_invested_monthly  Monthly_Balance Credit_Score  \n",
       "2            49.574949               199.458074       223.451310         Good  \n",
       "3            49.574949                41.420153       341.489231         Good  \n",
       "5            49.574949               178.344067       244.565317         Good  \n",
       "7            18.816215               104.291825       470.690627     Standard  \n",
       "8            18.816215                40.391238       484.591214         Good  "
      ]
     },
     "execution_count": 30,
     "metadata": {},
     "output_type": "execute_result"
    }
   ],
   "source": [
    "#check dataframe\n",
    "df.head()"
   ]
  },
  {
   "cell_type": "markdown",
   "metadata": {},
   "source": [
    "### Transforming the target variable/ splitting dataframe/ scaling data\n",
    "- I will encode the ordinal below target variable and split the data into training and testing groups. Then I will scale the features."
   ]
  },
  {
   "cell_type": "code",
   "execution_count": 31,
   "metadata": {},
   "outputs": [
    {
     "data": {
      "text/plain": [
       "array(['Good', 'Standard', 'Poor'], dtype=object)"
      ]
     },
     "execution_count": 31,
     "metadata": {},
     "output_type": "execute_result"
    }
   ],
   "source": [
    "df['Credit_Score'].unique()"
   ]
  },
  {
   "cell_type": "code",
   "execution_count": 32,
   "metadata": {},
   "outputs": [],
   "source": [
    "#create ordered list from target column 'Credit_Score'\n",
    "target_list = ['Poor', 'Standard', 'Good']"
   ]
  },
  {
   "cell_type": "code",
   "execution_count": 33,
   "metadata": {},
   "outputs": [],
   "source": [
    "#split data into target and features\n",
    "\n",
    "#This transforms the Credit_Score column into a 0 for poor, 1 for standard, and 2 for good\n",
    "y = pd.Categorical(df['Credit_Score'], categories= target_list, ordered=True).codes\n",
    "\n",
    "#create feature only df\n",
    "X = df.drop(['Credit_Score'], axis = 1)"
   ]
  },
  {
   "cell_type": "code",
   "execution_count": 34,
   "metadata": {},
   "outputs": [],
   "source": [
    "# Concat dummy variable columns with feature df\n",
    "X = pd.concat([X,type_of_loan_dummies, payment_of_min_amount_dummies, payment_behaviour_dummies, occupation_dummies], axis = 1)"
   ]
  },
  {
   "cell_type": "code",
   "execution_count": 35,
   "metadata": {},
   "outputs": [],
   "source": [
    "#split dateset in train/test\n",
    "X_train, X_test, y_train, y_test = train_test_split(X, y, test_size = 0.2, random_state=1)"
   ]
  },
  {
   "cell_type": "code",
   "execution_count": 36,
   "metadata": {},
   "outputs": [],
   "source": [
    "# Creating StandardScaler instance\n",
    "scaler = StandardScaler()\n",
    "\n",
    "# Fitting Standard Scaller\n",
    "X_scaler = scaler.fit(X_train)\n",
    "\n",
    "# Scaling data\n",
    "X_train_scaled = X_scaler.transform(X_train)\n",
    "X_test_scaled = X_scaler.transform(X_test)"
   ]
  },
  {
   "cell_type": "markdown",
   "metadata": {},
   "source": [
    "### Building the Logistic Regression Model\n",
    "- Below I will fit, predict, score my inital model"
   ]
  },
  {
   "cell_type": "code",
   "execution_count": 37,
   "metadata": {},
   "outputs": [
    {
     "data": {
      "text/html": [
       "<style>#sk-container-id-1 {color: black;}#sk-container-id-1 pre{padding: 0;}#sk-container-id-1 div.sk-toggleable {background-color: white;}#sk-container-id-1 label.sk-toggleable__label {cursor: pointer;display: block;width: 100%;margin-bottom: 0;padding: 0.3em;box-sizing: border-box;text-align: center;}#sk-container-id-1 label.sk-toggleable__label-arrow:before {content: \"▸\";float: left;margin-right: 0.25em;color: #696969;}#sk-container-id-1 label.sk-toggleable__label-arrow:hover:before {color: black;}#sk-container-id-1 div.sk-estimator:hover label.sk-toggleable__label-arrow:before {color: black;}#sk-container-id-1 div.sk-toggleable__content {max-height: 0;max-width: 0;overflow: hidden;text-align: left;background-color: #f0f8ff;}#sk-container-id-1 div.sk-toggleable__content pre {margin: 0.2em;color: black;border-radius: 0.25em;background-color: #f0f8ff;}#sk-container-id-1 input.sk-toggleable__control:checked~div.sk-toggleable__content {max-height: 200px;max-width: 100%;overflow: auto;}#sk-container-id-1 input.sk-toggleable__control:checked~label.sk-toggleable__label-arrow:before {content: \"▾\";}#sk-container-id-1 div.sk-estimator input.sk-toggleable__control:checked~label.sk-toggleable__label {background-color: #d4ebff;}#sk-container-id-1 div.sk-label input.sk-toggleable__control:checked~label.sk-toggleable__label {background-color: #d4ebff;}#sk-container-id-1 input.sk-hidden--visually {border: 0;clip: rect(1px 1px 1px 1px);clip: rect(1px, 1px, 1px, 1px);height: 1px;margin: -1px;overflow: hidden;padding: 0;position: absolute;width: 1px;}#sk-container-id-1 div.sk-estimator {font-family: monospace;background-color: #f0f8ff;border: 1px dotted black;border-radius: 0.25em;box-sizing: border-box;margin-bottom: 0.5em;}#sk-container-id-1 div.sk-estimator:hover {background-color: #d4ebff;}#sk-container-id-1 div.sk-parallel-item::after {content: \"\";width: 100%;border-bottom: 1px solid gray;flex-grow: 1;}#sk-container-id-1 div.sk-label:hover label.sk-toggleable__label {background-color: #d4ebff;}#sk-container-id-1 div.sk-serial::before {content: \"\";position: absolute;border-left: 1px solid gray;box-sizing: border-box;top: 0;bottom: 0;left: 50%;z-index: 0;}#sk-container-id-1 div.sk-serial {display: flex;flex-direction: column;align-items: center;background-color: white;padding-right: 0.2em;padding-left: 0.2em;position: relative;}#sk-container-id-1 div.sk-item {position: relative;z-index: 1;}#sk-container-id-1 div.sk-parallel {display: flex;align-items: stretch;justify-content: center;background-color: white;position: relative;}#sk-container-id-1 div.sk-item::before, #sk-container-id-1 div.sk-parallel-item::before {content: \"\";position: absolute;border-left: 1px solid gray;box-sizing: border-box;top: 0;bottom: 0;left: 50%;z-index: -1;}#sk-container-id-1 div.sk-parallel-item {display: flex;flex-direction: column;z-index: 1;position: relative;background-color: white;}#sk-container-id-1 div.sk-parallel-item:first-child::after {align-self: flex-end;width: 50%;}#sk-container-id-1 div.sk-parallel-item:last-child::after {align-self: flex-start;width: 50%;}#sk-container-id-1 div.sk-parallel-item:only-child::after {width: 0;}#sk-container-id-1 div.sk-dashed-wrapped {border: 1px dashed gray;margin: 0 0.4em 0.5em 0.4em;box-sizing: border-box;padding-bottom: 0.4em;background-color: white;}#sk-container-id-1 div.sk-label label {font-family: monospace;font-weight: bold;display: inline-block;line-height: 1.2em;}#sk-container-id-1 div.sk-label-container {text-align: center;}#sk-container-id-1 div.sk-container {/* jupyter's `normalize.less` sets `[hidden] { display: none; }` but bootstrap.min.css set `[hidden] { display: none !important; }` so we also need the `!important` here to be able to override the default hidden behavior on the sphinx rendered scikit-learn.org. See: https://github.com/scikit-learn/scikit-learn/issues/21755 */display: inline-block !important;position: relative;}#sk-container-id-1 div.sk-text-repr-fallback {display: none;}</style><div id=\"sk-container-id-1\" class=\"sk-top-container\"><div class=\"sk-text-repr-fallback\"><pre>LogisticRegression(random_state=78)</pre><b>In a Jupyter environment, please rerun this cell to show the HTML representation or trust the notebook. <br />On GitHub, the HTML representation is unable to render, please try loading this page with nbviewer.org.</b></div><div class=\"sk-container\" hidden><div class=\"sk-item\"><div class=\"sk-estimator sk-toggleable\"><input class=\"sk-toggleable__control sk-hidden--visually\" id=\"sk-estimator-id-1\" type=\"checkbox\" checked><label for=\"sk-estimator-id-1\" class=\"sk-toggleable__label sk-toggleable__label-arrow\">LogisticRegression</label><div class=\"sk-toggleable__content\"><pre>LogisticRegression(random_state=78)</pre></div></div></div></div></div>"
      ],
      "text/plain": [
       "LogisticRegression(random_state=78)"
      ]
     },
     "execution_count": 37,
     "metadata": {},
     "output_type": "execute_result"
    }
   ],
   "source": [
    "#create log regression model\n",
    "classifier = LogisticRegression(solver='lbfgs', random_state=78)\n",
    "classifier"
   ]
  },
  {
   "cell_type": "code",
   "execution_count": 38,
   "metadata": {},
   "outputs": [
    {
     "name": "stderr",
     "output_type": "stream",
     "text": [
      "c:\\Users\\cpord\\anaconda3\\envs\\dev\\lib\\site-packages\\sklearn\\linear_model\\_logistic.py:460: ConvergenceWarning: lbfgs failed to converge (status=1):\n",
      "STOP: TOTAL NO. of ITERATIONS REACHED LIMIT.\n",
      "\n",
      "Increase the number of iterations (max_iter) or scale the data as shown in:\n",
      "    https://scikit-learn.org/stable/modules/preprocessing.html\n",
      "Please also refer to the documentation for alternative solver options:\n",
      "    https://scikit-learn.org/stable/modules/linear_model.html#logistic-regression\n",
      "  n_iter_i = _check_optimize_result(\n"
     ]
    },
    {
     "data": {
      "text/html": [
       "<style>#sk-container-id-2 {color: black;}#sk-container-id-2 pre{padding: 0;}#sk-container-id-2 div.sk-toggleable {background-color: white;}#sk-container-id-2 label.sk-toggleable__label {cursor: pointer;display: block;width: 100%;margin-bottom: 0;padding: 0.3em;box-sizing: border-box;text-align: center;}#sk-container-id-2 label.sk-toggleable__label-arrow:before {content: \"▸\";float: left;margin-right: 0.25em;color: #696969;}#sk-container-id-2 label.sk-toggleable__label-arrow:hover:before {color: black;}#sk-container-id-2 div.sk-estimator:hover label.sk-toggleable__label-arrow:before {color: black;}#sk-container-id-2 div.sk-toggleable__content {max-height: 0;max-width: 0;overflow: hidden;text-align: left;background-color: #f0f8ff;}#sk-container-id-2 div.sk-toggleable__content pre {margin: 0.2em;color: black;border-radius: 0.25em;background-color: #f0f8ff;}#sk-container-id-2 input.sk-toggleable__control:checked~div.sk-toggleable__content {max-height: 200px;max-width: 100%;overflow: auto;}#sk-container-id-2 input.sk-toggleable__control:checked~label.sk-toggleable__label-arrow:before {content: \"▾\";}#sk-container-id-2 div.sk-estimator input.sk-toggleable__control:checked~label.sk-toggleable__label {background-color: #d4ebff;}#sk-container-id-2 div.sk-label input.sk-toggleable__control:checked~label.sk-toggleable__label {background-color: #d4ebff;}#sk-container-id-2 input.sk-hidden--visually {border: 0;clip: rect(1px 1px 1px 1px);clip: rect(1px, 1px, 1px, 1px);height: 1px;margin: -1px;overflow: hidden;padding: 0;position: absolute;width: 1px;}#sk-container-id-2 div.sk-estimator {font-family: monospace;background-color: #f0f8ff;border: 1px dotted black;border-radius: 0.25em;box-sizing: border-box;margin-bottom: 0.5em;}#sk-container-id-2 div.sk-estimator:hover {background-color: #d4ebff;}#sk-container-id-2 div.sk-parallel-item::after {content: \"\";width: 100%;border-bottom: 1px solid gray;flex-grow: 1;}#sk-container-id-2 div.sk-label:hover label.sk-toggleable__label {background-color: #d4ebff;}#sk-container-id-2 div.sk-serial::before {content: \"\";position: absolute;border-left: 1px solid gray;box-sizing: border-box;top: 0;bottom: 0;left: 50%;z-index: 0;}#sk-container-id-2 div.sk-serial {display: flex;flex-direction: column;align-items: center;background-color: white;padding-right: 0.2em;padding-left: 0.2em;position: relative;}#sk-container-id-2 div.sk-item {position: relative;z-index: 1;}#sk-container-id-2 div.sk-parallel {display: flex;align-items: stretch;justify-content: center;background-color: white;position: relative;}#sk-container-id-2 div.sk-item::before, #sk-container-id-2 div.sk-parallel-item::before {content: \"\";position: absolute;border-left: 1px solid gray;box-sizing: border-box;top: 0;bottom: 0;left: 50%;z-index: -1;}#sk-container-id-2 div.sk-parallel-item {display: flex;flex-direction: column;z-index: 1;position: relative;background-color: white;}#sk-container-id-2 div.sk-parallel-item:first-child::after {align-self: flex-end;width: 50%;}#sk-container-id-2 div.sk-parallel-item:last-child::after {align-self: flex-start;width: 50%;}#sk-container-id-2 div.sk-parallel-item:only-child::after {width: 0;}#sk-container-id-2 div.sk-dashed-wrapped {border: 1px dashed gray;margin: 0 0.4em 0.5em 0.4em;box-sizing: border-box;padding-bottom: 0.4em;background-color: white;}#sk-container-id-2 div.sk-label label {font-family: monospace;font-weight: bold;display: inline-block;line-height: 1.2em;}#sk-container-id-2 div.sk-label-container {text-align: center;}#sk-container-id-2 div.sk-container {/* jupyter's `normalize.less` sets `[hidden] { display: none; }` but bootstrap.min.css set `[hidden] { display: none !important; }` so we also need the `!important` here to be able to override the default hidden behavior on the sphinx rendered scikit-learn.org. See: https://github.com/scikit-learn/scikit-learn/issues/21755 */display: inline-block !important;position: relative;}#sk-container-id-2 div.sk-text-repr-fallback {display: none;}</style><div id=\"sk-container-id-2\" class=\"sk-top-container\"><div class=\"sk-text-repr-fallback\"><pre>LogisticRegression(random_state=78)</pre><b>In a Jupyter environment, please rerun this cell to show the HTML representation or trust the notebook. <br />On GitHub, the HTML representation is unable to render, please try loading this page with nbviewer.org.</b></div><div class=\"sk-container\" hidden><div class=\"sk-item\"><div class=\"sk-estimator sk-toggleable\"><input class=\"sk-toggleable__control sk-hidden--visually\" id=\"sk-estimator-id-2\" type=\"checkbox\" checked><label for=\"sk-estimator-id-2\" class=\"sk-toggleable__label sk-toggleable__label-arrow\">LogisticRegression</label><div class=\"sk-toggleable__content\"><pre>LogisticRegression(random_state=78)</pre></div></div></div></div></div>"
      ],
      "text/plain": [
       "LogisticRegression(random_state=78)"
      ]
     },
     "execution_count": 38,
     "metadata": {},
     "output_type": "execute_result"
    }
   ],
   "source": [
    "# Train the model\n",
    "classifier.fit(X_train_scaled, y_train)"
   ]
  },
  {
   "cell_type": "code",
   "execution_count": 39,
   "metadata": {},
   "outputs": [],
   "source": [
    "# make predictions\n",
    "predictions = classifier.predict(X_test_scaled)"
   ]
  },
  {
   "cell_type": "code",
   "execution_count": 40,
   "metadata": {},
   "outputs": [
    {
     "data": {
      "text/plain": [
       "array([[2400,  928,  249],\n",
       "       [ 695, 5045,  830],\n",
       "       [  47,  619, 1377]], dtype=int64)"
      ]
     },
     "execution_count": 40,
     "metadata": {},
     "output_type": "execute_result"
    }
   ],
   "source": [
    "# get confusion matrix\n",
    "confusion_matrix(y_test, predictions)"
   ]
  },
  {
   "cell_type": "code",
   "execution_count": 41,
   "metadata": {},
   "outputs": [
    {
     "name": "stdout",
     "output_type": "stream",
     "text": [
      "              precision    recall  f1-score   support\n",
      "\n",
      "           0       0.76      0.67      0.71      3577\n",
      "           1       0.77      0.77      0.77      6570\n",
      "           2       0.56      0.67      0.61      2043\n",
      "\n",
      "    accuracy                           0.72     12190\n",
      "   macro avg       0.70      0.70      0.70     12190\n",
      "weighted avg       0.73      0.72      0.73     12190\n",
      "\n"
     ]
    }
   ],
   "source": [
    "#print classification report\n",
    "print(classification_report(y_test, predictions))"
   ]
  },
  {
   "cell_type": "markdown",
   "metadata": {},
   "source": [
    "### Initial Assessment and Fixes\n",
    "- Accuracy is below goal of ~75% (72%); it is not as strong at predicting good credit(2), as poor(0) or standard(1) credit\n",
    "- Creating training data with an equal amount of observations for each target may improve results.\n",
    "- Maybe try target encoding (mean encoding) or frequency encoding on categorical data. Maybe hash encoding for variables with a lot of categories?"
   ]
  },
  {
   "cell_type": "markdown",
   "metadata": {},
   "source": []
  }
 ],
 "metadata": {
  "kernelspec": {
   "display_name": "dev",
   "language": "python",
   "name": "python3"
  },
  "language_info": {
   "codemirror_mode": {
    "name": "ipython",
    "version": 3
   },
   "file_extension": ".py",
   "mimetype": "text/x-python",
   "name": "python",
   "nbconvert_exporter": "python",
   "pygments_lexer": "ipython3",
   "version": "3.10.13"
  }
 },
 "nbformat": 4,
 "nbformat_minor": 2
}
